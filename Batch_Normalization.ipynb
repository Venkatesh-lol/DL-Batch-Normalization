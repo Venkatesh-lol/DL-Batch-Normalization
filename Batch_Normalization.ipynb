{
  "nbformat": 4,
  "nbformat_minor": 0,
  "metadata": {
    "colab": {
      "name": "Batch Normalization.ipynb",
      "provenance": [],
      "mount_file_id": "1tEaj4FTYd3mpy5CjMPC_joofYf5whHTd",
      "authorship_tag": "ABX9TyNQ7FcBCO0pQ8tkV9I8reVO"
    },
    "kernelspec": {
      "name": "python3",
      "display_name": "Python 3"
    },
    "language_info": {
      "name": "python"
    },
    "accelerator": "GPU"
  },
  "cells": [
    {
      "cell_type": "code",
      "metadata": {
        "id": "8MGyplfZNV93"
      },
      "source": [
        "import os\n",
        "import tensorflow as tf\n",
        "import numpy as np\n",
        "import matplotlib.pyplot as plt\n",
        "import seaborn as sns\n",
        "plt.style.use(\"fivethirtyeight\")\n",
        "%load_ext tensorboard"
      ],
      "execution_count": 2,
      "outputs": []
    },
    {
      "cell_type": "code",
      "metadata": {
        "colab": {
          "base_uri": "https://localhost:8080/"
        },
        "id": "R8pyoWToOHRV",
        "outputId": "5c8265b2-2a52-4681-ece1-68e9f20ea025"
      },
      "source": [
        "(X_train_full, y_train_full), (X_test, y_test) = tf.keras.datasets.fashion_mnist.load_data()\n",
        "X_train_full = X_train_full / 255.0\n",
        "X_test = X_test /255.0\n",
        "X_valid, X_train = X_train_full[:5000], X_train_full[5000:]\n",
        "y_valid, y_train = y_train_full[:5000], y_train_full[5000:]"
      ],
      "execution_count": 3,
      "outputs": [
        {
          "output_type": "stream",
          "text": [
            "Downloading data from https://storage.googleapis.com/tensorflow/tf-keras-datasets/train-labels-idx1-ubyte.gz\n",
            "32768/29515 [=================================] - 0s 0us/step\n",
            "Downloading data from https://storage.googleapis.com/tensorflow/tf-keras-datasets/train-images-idx3-ubyte.gz\n",
            "26427392/26421880 [==============================] - 0s 0us/step\n",
            "Downloading data from https://storage.googleapis.com/tensorflow/tf-keras-datasets/t10k-labels-idx1-ubyte.gz\n",
            "8192/5148 [===============================================] - 0s 0us/step\n",
            "Downloading data from https://storage.googleapis.com/tensorflow/tf-keras-datasets/t10k-images-idx3-ubyte.gz\n",
            "4423680/4422102 [==============================] - 0s 0us/step\n"
          ],
          "name": "stdout"
        }
      ]
    },
    {
      "cell_type": "code",
      "metadata": {
        "id": "pwibvl5fPK46"
      },
      "source": [
        "tf.random.set_seed(42)\n",
        "np.random.seed(42)\n",
        "\n",
        "LAYERS = [ tf.keras.layers.Flatten(input_shape=[28, 28]),\n",
        "          tf.keras.layers.Dense(300, kernel_initializer=\"he_normal\"),\n",
        "          tf.keras.layers.LeakyReLU(),\n",
        "          tf.keras.layers.Dense(100, kernel_initializer=\"he_normal\"),\n",
        "          tf.keras.layers.LeakyReLU(),\n",
        "          tf.keras.layers.Dense(10, activation=\"softmax\")]\n",
        "\n",
        "\n",
        "model = tf.keras.models.Sequential(LAYERS)"
      ],
      "execution_count": 4,
      "outputs": []
    },
    {
      "cell_type": "code",
      "metadata": {
        "colab": {
          "base_uri": "https://localhost:8080/"
        },
        "id": "ht5dXLsWQMyV",
        "outputId": "9d7e7a47-8394-4731-8f36-3872b61b3df2"
      },
      "source": [
        "model.compile(loss =\"sparse_categorical_crossentropy\",\n",
        "               optimizer=tf.keras.optimizers.SGD(lr=1e-3),\n",
        "               metrics= [\"accuracy\"])"
      ],
      "execution_count": 5,
      "outputs": [
        {
          "output_type": "stream",
          "text": [
            "/usr/local/lib/python3.7/dist-packages/tensorflow/python/keras/optimizer_v2/optimizer_v2.py:375: UserWarning: The `lr` argument is deprecated, use `learning_rate` instead.\n",
            "  \"The `lr` argument is deprecated, use `learning_rate` instead.\")\n"
          ],
          "name": "stderr"
        }
      ]
    },
    {
      "cell_type": "code",
      "metadata": {
        "colab": {
          "base_uri": "https://localhost:8080/"
        },
        "id": "SRnh9w_eQu1p",
        "outputId": "bda24012-54bf-44fd-a779-290d7ee58b8c"
      },
      "source": [
        "model.summary()"
      ],
      "execution_count": 6,
      "outputs": [
        {
          "output_type": "stream",
          "text": [
            "Model: \"sequential\"\n",
            "_________________________________________________________________\n",
            "Layer (type)                 Output Shape              Param #   \n",
            "=================================================================\n",
            "flatten (Flatten)            (None, 784)               0         \n",
            "_________________________________________________________________\n",
            "dense (Dense)                (None, 300)               235500    \n",
            "_________________________________________________________________\n",
            "leaky_re_lu (LeakyReLU)      (None, 300)               0         \n",
            "_________________________________________________________________\n",
            "dense_1 (Dense)              (None, 100)               30100     \n",
            "_________________________________________________________________\n",
            "leaky_re_lu_1 (LeakyReLU)    (None, 100)               0         \n",
            "_________________________________________________________________\n",
            "dense_2 (Dense)              (None, 10)                1010      \n",
            "=================================================================\n",
            "Total params: 266,610\n",
            "Trainable params: 266,610\n",
            "Non-trainable params: 0\n",
            "_________________________________________________________________\n"
          ],
          "name": "stdout"
        }
      ]
    },
    {
      "cell_type": "code",
      "metadata": {
        "colab": {
          "base_uri": "https://localhost:8080/"
        },
        "id": "MpglTbQlQ1SJ",
        "outputId": "cf17edd5-38d2-4354-be95-3012f36a3663"
      },
      "source": [
        "history = model.fit(X_train, y_train, epochs=10,\n",
        "                    validation_data=(X_valid, y_valid), verbose=2)"
      ],
      "execution_count": 7,
      "outputs": [
        {
          "output_type": "stream",
          "text": [
            "Epoch 1/10\n",
            "1719/1719 - 6s - loss: 1.2819 - accuracy: 0.6229 - val_loss: 0.8886 - val_accuracy: 0.7160\n",
            "Epoch 2/10\n",
            "1719/1719 - 3s - loss: 0.7955 - accuracy: 0.7361 - val_loss: 0.7130 - val_accuracy: 0.7658\n",
            "Epoch 3/10\n",
            "1719/1719 - 3s - loss: 0.6816 - accuracy: 0.7720 - val_loss: 0.6427 - val_accuracy: 0.7898\n",
            "Epoch 4/10\n",
            "1719/1719 - 3s - loss: 0.6217 - accuracy: 0.7944 - val_loss: 0.5900 - val_accuracy: 0.8066\n",
            "Epoch 5/10\n",
            "1719/1719 - 3s - loss: 0.5832 - accuracy: 0.8074 - val_loss: 0.5582 - val_accuracy: 0.8200\n",
            "Epoch 6/10\n",
            "1719/1719 - 3s - loss: 0.5553 - accuracy: 0.8156 - val_loss: 0.5350 - val_accuracy: 0.8238\n",
            "Epoch 7/10\n",
            "1719/1719 - 3s - loss: 0.5338 - accuracy: 0.8224 - val_loss: 0.5157 - val_accuracy: 0.8304\n",
            "Epoch 8/10\n",
            "1719/1719 - 3s - loss: 0.5172 - accuracy: 0.8273 - val_loss: 0.5079 - val_accuracy: 0.8284\n",
            "Epoch 9/10\n",
            "1719/1719 - 3s - loss: 0.5040 - accuracy: 0.8289 - val_loss: 0.4895 - val_accuracy: 0.8388\n",
            "Epoch 10/10\n",
            "1719/1719 - 3s - loss: 0.4924 - accuracy: 0.8321 - val_loss: 0.4817 - val_accuracy: 0.8396\n"
          ],
          "name": "stdout"
        }
      ]
    },
    {
      "cell_type": "markdown",
      "metadata": {
        "id": "gR0yTEzdSP-e"
      },
      "source": [
        "## Batch Normalization Approach One"
      ]
    },
    {
      "cell_type": "code",
      "metadata": {
        "id": "g1Iv3x46SKtw"
      },
      "source": [
        "del model"
      ],
      "execution_count": 8,
      "outputs": []
    },
    {
      "cell_type": "code",
      "metadata": {
        "id": "c-fqqoNKSfXX"
      },
      "source": [
        "LAYERS_BN = [\n",
        "             tf.keras.layers.Flatten(input_shape=[28, 28]),\n",
        "             tf.keras.layers.BatchNormalization(),\n",
        "             tf.keras.layers.Dense(300, activation=\"relu\"),\n",
        "             tf.keras.layers.BatchNormalization(),\n",
        "             tf.keras.layers.Dense(100, activation=\"relu\"),\n",
        "             tf.keras.layers.BatchNormalization(),\n",
        "             tf.keras.layers.Dense(10, activation=\"softmax\")\n",
        "]\n",
        "\n",
        "model = tf.keras.models.Sequential(LAYERS_BN)"
      ],
      "execution_count": 9,
      "outputs": []
    },
    {
      "cell_type": "code",
      "metadata": {
        "colab": {
          "base_uri": "https://localhost:8080/"
        },
        "id": "1rkNzbM5BMM6",
        "outputId": "495188e5-b8fc-4b2d-db9e-174c94a48563"
      },
      "source": [
        "model.summary()"
      ],
      "execution_count": 10,
      "outputs": [
        {
          "output_type": "stream",
          "text": [
            "Model: \"sequential_1\"\n",
            "_________________________________________________________________\n",
            "Layer (type)                 Output Shape              Param #   \n",
            "=================================================================\n",
            "flatten_1 (Flatten)          (None, 784)               0         \n",
            "_________________________________________________________________\n",
            "batch_normalization (BatchNo (None, 784)               3136      \n",
            "_________________________________________________________________\n",
            "dense_3 (Dense)              (None, 300)               235500    \n",
            "_________________________________________________________________\n",
            "batch_normalization_1 (Batch (None, 300)               1200      \n",
            "_________________________________________________________________\n",
            "dense_4 (Dense)              (None, 100)               30100     \n",
            "_________________________________________________________________\n",
            "batch_normalization_2 (Batch (None, 100)               400       \n",
            "_________________________________________________________________\n",
            "dense_5 (Dense)              (None, 10)                1010      \n",
            "=================================================================\n",
            "Total params: 271,346\n",
            "Trainable params: 268,978\n",
            "Non-trainable params: 2,368\n",
            "_________________________________________________________________\n"
          ],
          "name": "stdout"
        }
      ]
    },
    {
      "cell_type": "code",
      "metadata": {
        "id": "Nv2l8PYiBnJG"
      },
      "source": [
        "bnl = model.layers[1]"
      ],
      "execution_count": 11,
      "outputs": []
    },
    {
      "cell_type": "code",
      "metadata": {
        "colab": {
          "base_uri": "https://localhost:8080/"
        },
        "id": "PyYHfzvmDgXs",
        "outputId": "19045bd2-5354-4921-cf6d-f356c986b0d8"
      },
      "source": [
        "for variable in bnl.variables:\n",
        "  print(variable.name, variable.trainable)"
      ],
      "execution_count": 12,
      "outputs": [
        {
          "output_type": "stream",
          "text": [
            "batch_normalization/gamma:0 True\n",
            "batch_normalization/beta:0 True\n",
            "batch_normalization/moving_mean:0 False\n",
            "batch_normalization/moving_variance:0 False\n"
          ],
          "name": "stdout"
        }
      ]
    },
    {
      "cell_type": "code",
      "metadata": {
        "colab": {
          "base_uri": "https://localhost:8080/"
        },
        "id": "B8-eGZDPDpvc",
        "outputId": "bd090104-00e1-48d0-b622-dcdc5fe2b626"
      },
      "source": [
        "model.compile(loss= \"sparse_categorical_crossentropy\",\n",
        "              optimizer = tf.keras.optimizers.SGD(lr=1e-3),\n",
        "              metrics = [\"accuracy\"])"
      ],
      "execution_count": 13,
      "outputs": [
        {
          "output_type": "stream",
          "text": [
            "/usr/local/lib/python3.7/dist-packages/tensorflow/python/keras/optimizer_v2/optimizer_v2.py:375: UserWarning: The `lr` argument is deprecated, use `learning_rate` instead.\n",
            "  \"The `lr` argument is deprecated, use `learning_rate` instead.\")\n"
          ],
          "name": "stderr"
        }
      ]
    },
    {
      "cell_type": "code",
      "metadata": {
        "colab": {
          "base_uri": "https://localhost:8080/"
        },
        "id": "pYBvdqo6EMkM",
        "outputId": "912b0ec3-0f51-48cb-d852-b6f4e7d7890a"
      },
      "source": [
        "history = model.fit(X_train, y_train, epochs=10,\n",
        "                    validation_data=(X_valid, y_valid), verbose=2)"
      ],
      "execution_count": 14,
      "outputs": [
        {
          "output_type": "stream",
          "text": [
            "Epoch 1/10\n",
            "1719/1719 - 5s - loss: 0.8293 - accuracy: 0.7221 - val_loss: 0.5539 - val_accuracy: 0.8160\n",
            "Epoch 2/10\n",
            "1719/1719 - 5s - loss: 0.5703 - accuracy: 0.8035 - val_loss: 0.4792 - val_accuracy: 0.8378\n",
            "Epoch 3/10\n",
            "1719/1719 - 5s - loss: 0.5161 - accuracy: 0.8211 - val_loss: 0.4424 - val_accuracy: 0.8492\n",
            "Epoch 4/10\n",
            "1719/1719 - 5s - loss: 0.4789 - accuracy: 0.8313 - val_loss: 0.4212 - val_accuracy: 0.8562\n",
            "Epoch 5/10\n",
            "1719/1719 - 5s - loss: 0.4548 - accuracy: 0.8407 - val_loss: 0.4050 - val_accuracy: 0.8616\n",
            "Epoch 6/10\n",
            "1719/1719 - 5s - loss: 0.4386 - accuracy: 0.8445 - val_loss: 0.3930 - val_accuracy: 0.8640\n",
            "Epoch 7/10\n",
            "1719/1719 - 5s - loss: 0.4255 - accuracy: 0.8503 - val_loss: 0.3828 - val_accuracy: 0.8636\n",
            "Epoch 8/10\n",
            "1719/1719 - 5s - loss: 0.4123 - accuracy: 0.8541 - val_loss: 0.3758 - val_accuracy: 0.8666\n",
            "Epoch 9/10\n",
            "1719/1719 - 5s - loss: 0.4027 - accuracy: 0.8579 - val_loss: 0.3690 - val_accuracy: 0.8678\n",
            "Epoch 10/10\n",
            "1719/1719 - 5s - loss: 0.3925 - accuracy: 0.8615 - val_loss: 0.3628 - val_accuracy: 0.8676\n"
          ],
          "name": "stdout"
        }
      ]
    },
    {
      "cell_type": "code",
      "metadata": {
        "id": "oRuBrwLFEeYM"
      },
      "source": [
        ""
      ],
      "execution_count": null,
      "outputs": []
    },
    {
      "cell_type": "markdown",
      "metadata": {
        "id": "4v9XRzF7GafH"
      },
      "source": [
        "## Batch Norm approach TWO"
      ]
    },
    {
      "cell_type": "code",
      "metadata": {
        "id": "S-Fu5M9SGjej"
      },
      "source": [
        "del model"
      ],
      "execution_count": 15,
      "outputs": []
    },
    {
      "cell_type": "code",
      "metadata": {
        "id": "SolhLccHGmXS"
      },
      "source": [
        "LAYERS_BN_BIAS_FALSE = [\n",
        "                        tf.keras.layers.Flatten(input_shape=[28, 28]),\n",
        "                        tf.keras.layers.BatchNormalization(),\n",
        "                        tf.keras.layers.Dense(300, use_bias=False),\n",
        "                        tf.keras.layers.BatchNormalization(),\n",
        "                        tf.keras.layers.Activation(\"relu\"),\n",
        "                        tf.keras.layers.Dense(100, use_bias=False),\n",
        "                        tf.keras.layers.BatchNormalization(),\n",
        "                        tf.keras.layers.Activation(\"relu\"),\n",
        "                        tf.keras.layers.Dense(10, activation=\"softmax\")\n",
        "]\n",
        "\n",
        "model= tf.keras.models.Sequential(LAYERS_BN_BIAS_FALSE)"
      ],
      "execution_count": 18,
      "outputs": []
    },
    {
      "cell_type": "code",
      "metadata": {
        "colab": {
          "base_uri": "https://localhost:8080/"
        },
        "id": "yB2k7oKwH_-M",
        "outputId": "f625aa8a-1b36-4768-e33f-8cbd3c9a2cf3"
      },
      "source": [
        "model.compile(loss=\"sparse_categorical_crossentropy\",\n",
        "              optimizer = tf.keras.optimizers.SGD(lr=1e-3),\n",
        "              metrics=[\"accuracy\"])"
      ],
      "execution_count": 19,
      "outputs": [
        {
          "output_type": "stream",
          "text": [
            "/usr/local/lib/python3.7/dist-packages/tensorflow/python/keras/optimizer_v2/optimizer_v2.py:375: UserWarning: The `lr` argument is deprecated, use `learning_rate` instead.\n",
            "  \"The `lr` argument is deprecated, use `learning_rate` instead.\")\n"
          ],
          "name": "stderr"
        }
      ]
    },
    {
      "cell_type": "code",
      "metadata": {
        "colab": {
          "base_uri": "https://localhost:8080/"
        },
        "id": "ybJaqFw0IhRo",
        "outputId": "4992b02f-866c-4818-9034-e4d3e6225d76"
      },
      "source": [
        "history = model.fit(X_train, y_train, epochs=10,\n",
        "                    validation_data=(X_valid, y_valid) )"
      ],
      "execution_count": 20,
      "outputs": [
        {
          "output_type": "stream",
          "text": [
            "Epoch 1/10\n",
            "1719/1719 [==============================] - 6s 3ms/step - loss: 1.0346 - accuracy: 0.6739 - val_loss: 0.6680 - val_accuracy: 0.7886\n",
            "Epoch 2/10\n",
            "1719/1719 [==============================] - 6s 3ms/step - loss: 0.6757 - accuracy: 0.7819 - val_loss: 0.5537 - val_accuracy: 0.8212\n",
            "Epoch 3/10\n",
            "1719/1719 [==============================] - 6s 3ms/step - loss: 0.5961 - accuracy: 0.8021 - val_loss: 0.4996 - val_accuracy: 0.8352\n",
            "Epoch 4/10\n",
            "1719/1719 [==============================] - 6s 3ms/step - loss: 0.5456 - accuracy: 0.8176 - val_loss: 0.4655 - val_accuracy: 0.8458\n",
            "Epoch 5/10\n",
            "1719/1719 [==============================] - 6s 3ms/step - loss: 0.5140 - accuracy: 0.8251 - val_loss: 0.4419 - val_accuracy: 0.8508\n",
            "Epoch 6/10\n",
            "1719/1719 [==============================] - 6s 3ms/step - loss: 0.4915 - accuracy: 0.8308 - val_loss: 0.4238 - val_accuracy: 0.8540\n",
            "Epoch 7/10\n",
            "1719/1719 [==============================] - 6s 3ms/step - loss: 0.4741 - accuracy: 0.8377 - val_loss: 0.4103 - val_accuracy: 0.8580\n",
            "Epoch 8/10\n",
            "1719/1719 [==============================] - 6s 3ms/step - loss: 0.4603 - accuracy: 0.8407 - val_loss: 0.3994 - val_accuracy: 0.8620\n",
            "Epoch 9/10\n",
            "1719/1719 [==============================] - 6s 3ms/step - loss: 0.4465 - accuracy: 0.8458 - val_loss: 0.3910 - val_accuracy: 0.8642\n",
            "Epoch 10/10\n",
            "1719/1719 [==============================] - 6s 3ms/step - loss: 0.4338 - accuracy: 0.8499 - val_loss: 0.3828 - val_accuracy: 0.8680\n"
          ],
          "name": "stdout"
        }
      ]
    },
    {
      "cell_type": "code",
      "metadata": {
        "id": "qaggipD3IyLO"
      },
      "source": [
        ""
      ],
      "execution_count": null,
      "outputs": []
    }
  ]
}